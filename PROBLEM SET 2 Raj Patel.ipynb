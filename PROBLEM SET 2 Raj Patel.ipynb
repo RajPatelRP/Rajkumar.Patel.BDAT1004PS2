{
 "cells": [
  {
   "cell_type": "markdown",
   "id": "4b490f29",
   "metadata": {},
   "source": [
    "### Problem Set 2 -- Data Programming"
   ]
  },
  {
   "cell_type": "markdown",
   "id": "6888a657",
   "metadata": {},
   "source": [
    "#### QUESTION 1 "
   ]
  },
  {
   "cell_type": "code",
   "execution_count": 4,
   "id": "67f7190c",
   "metadata": {},
   "outputs": [],
   "source": [
    "# Given python module\n",
    "a = 0            # Assigning 0 to variable a.\n",
    "\n",
    "def b():         # Defining function b  \n",
    " global a        # The above variable a is now declared as a global variable.\n",
    "\n",
    " a = c(a)        # Here we are passing a as an argument for function c,\n",
    "                 # And assigning returning value of function c to variable a.  \n",
    "        \n",
    "def c(a):        # Defining function c which will required one argument.\n",
    " return a + 2    # returning provided argument + 2. "
   ]
  },
  {
   "cell_type": "code",
   "execution_count": 5,
   "id": "f10728d7",
   "metadata": {},
   "outputs": [
    {
     "data": {
      "text/plain": [
       "6"
      ]
     },
     "execution_count": 5,
     "metadata": {},
     "output_type": "execute_result"
    }
   ],
   "source": [
    "# Executing\n",
    "b()\n",
    "b()\n",
    "b()\n",
    "a"
   ]
  },
  {
   "cell_type": "markdown",
   "id": "e588802a",
   "metadata": {},
   "source": [
    "####  Elaboration of result.\n",
    "\n",
    "So initially the value of a is 0,after that inside the function b we have declared a as an global variable.\n",
    "After declaring global we are assigning the returning value of function c(a) to a and since function c is taking a as an argument, return value of \" a \" increase by 2 according to increment logic of c.\n",
    "\n",
    "So by the above logic we can say that if we are calling function b() one time the value of a incremented by 2. So after calling of function b() value of a=2, after second execution a=4 and after third execution value of a becomes 6. Which is what we are getting after executing just a. "
   ]
  },
  {
   "cell_type": "markdown",
   "id": "45fe90e0",
   "metadata": {},
   "source": [
    " "
   ]
  },
  {
   "cell_type": "markdown",
   "id": "a3d1416e",
   "metadata": {},
   "source": [
    "#### QUESTION 2"
   ]
  },
  {
   "cell_type": "code",
   "execution_count": 13,
   "id": "b66425e6",
   "metadata": {},
   "outputs": [],
   "source": [
    "def fileLength(File_Name):      # Defining filelength function which will return file length when correct name and path provided.\n",
    "    try:\n",
    "        Read_File = open(File_Name) \n",
    "        print(len(Read_File.read())) # getting the length of the file. \n",
    "    except FileNotFoundError:   # it will print this error message if file is not find through the directory\n",
    "         print(f\"Error:Please provide correct path and name of the file!\")\n",
    "    else:                       # or it will close the file \n",
    "        Read_File.close()"
   ]
  },
  {
   "cell_type": "code",
   "execution_count": 14,
   "id": "d3e3eac8",
   "metadata": {},
   "outputs": [
    {
     "name": "stdout",
     "output_type": "stream",
     "text": [
      "941\n"
     ]
    }
   ],
   "source": [
    "# Working Example\n",
    "fileLength(\"C:/Users/Raj Patel/Documents/College/Semester 2/Questions.txt\")"
   ]
  },
  {
   "cell_type": "code",
   "execution_count": 15,
   "id": "71691e42",
   "metadata": {},
   "outputs": [
    {
     "name": "stdout",
     "output_type": "stream",
     "text": [
      "Error:Please provide correct path and name of the file!\n"
     ]
    }
   ],
   "source": [
    "# Exception Example\n",
    "fileLength(\"C:/Users/Raj Patel/Documents/College/Semester 2/uestions.txt\")"
   ]
  },
  {
   "cell_type": "markdown",
   "id": "04a71ed5",
   "metadata": {},
   "source": [
    "##### Observation\n",
    "Here we can see that if the file path/name is not correct it will throw custom exception."
   ]
  },
  {
   "cell_type": "markdown",
   "id": "da6396c2",
   "metadata": {},
   "source": [
    "#### QUESTION 3"
   ]
  },
  {
   "cell_type": "code",
   "execution_count": 2,
   "id": "535fb540",
   "metadata": {},
   "outputs": [],
   "source": [
    "class Marsupial:            # class called Marsupial \n",
    "    def __init__(self):     # defining an objcet by using init \n",
    "        self.pouch = []     # creating an empty list to store results \n",
    "\n",
    "    def put_in_pouch(self, item):   # Here using put_in_pouch commanad to add iteams in our list called self.pouch\n",
    "        self.pouch.append(item)\n",
    "\n",
    "    def pouch_contents(self):\n",
    "        return self.pouch"
   ]
  },
  {
   "cell_type": "code",
   "execution_count": 18,
   "id": "93e1ecd9",
   "metadata": {},
   "outputs": [],
   "source": [
    "class Kangaroo(Marsupial):        # A subclass called kangaroo. \n",
    "    \n",
    "    def __init__(self, x, y):     # we have created object in it which can have two parameters in it\n",
    "                                  # where x and y represents coordinates of kangaroo.\n",
    "        super().__init__()\n",
    "        self.x = x                \n",
    "        self.y = y\n",
    "    \n",
    "    def jump(self, dx, dy):   #  jump method takes two argument dx and dy,which represents distance that kangaroo will be moving. \n",
    "        self.x = self.x + dx\n",
    "        self.y = self.y + dy    \n",
    "    \n",
    "    def __str__(self):    \n",
    "        return f\"Kangaroo is at this location: ({self.x}, {self.y})\""
   ]
  },
  {
   "cell_type": "code",
   "execution_count": 19,
   "id": "19f478b4",
   "metadata": {},
   "outputs": [
    {
     "name": "stdout",
     "output_type": "stream",
     "text": [
      "['Putting', 'in the', 'pouch']\n"
     ]
    }
   ],
   "source": [
    "M = Marsupial() # object of marsupial class\n",
    "M.put_in_pouch('Putting')\n",
    "M.put_in_pouch('in the')\n",
    "M.put_in_pouch('pouch')\n",
    "print( M.pouch_contents())"
   ]
  },
  {
   "cell_type": "code",
   "execution_count": 20,
   "id": "93632324",
   "metadata": {},
   "outputs": [
    {
     "name": "stdout",
     "output_type": "stream",
     "text": [
      "Kangaroo is at this location: (0, 0)\n",
      "Kangaroo is at this location: (1, 2)\n"
     ]
    }
   ],
   "source": [
    "kangaroo_obj = Kangaroo(0,0) #initial location.\n",
    "\n",
    "kangaroo_obj.put_in_pouch(\"I am from\")\n",
    "\n",
    "kangaroo_obj.put_in_pouch(\"kangaroo class\")\n",
    "\n",
    "print(kangaroo_obj)  \n",
    "\n",
    "kangaroo_obj.jump(1,2)\n",
    "\n",
    "print(kangaroo_obj)  "
   ]
  },
  {
   "cell_type": "markdown",
   "id": "46aac38e",
   "metadata": {},
   "source": [
    "# QUESTION 4"
   ]
  },
  {
   "cell_type": "code",
   "execution_count": 1,
   "id": "ce028030",
   "metadata": {},
   "outputs": [],
   "source": [
    "def collatz(x):                   # Defining the function collatz \n",
    "        print(x)                  # Here we are using print function to pront starting point of collatz sequence. \n",
    "        if x == 1:                # The function will check if the x=1 then it will stop iteration and will exit the loop.\n",
    "            return\n",
    "        elif x % 2 == 0:          # If x is even number then it will call itself with argument x//2. \n",
    "            collatz(x // 2)\n",
    "        else:\n",
    "            collatz(3 * x + 1)    # else in case of odd number then it will call itself with argument 3*x+1."
   ]
  },
  {
   "cell_type": "code",
   "execution_count": 4,
   "id": "f976d56a",
   "metadata": {},
   "outputs": [
    {
     "name": "stdout",
     "output_type": "stream",
     "text": [
      "1\n"
     ]
    }
   ],
   "source": [
    "# Examples\n",
    "collatz(1) "
   ]
  },
  {
   "cell_type": "code",
   "execution_count": 3,
   "id": "e07058a7",
   "metadata": {},
   "outputs": [
    {
     "name": "stdout",
     "output_type": "stream",
     "text": [
      "10\n",
      "5\n",
      "16\n",
      "8\n",
      "4\n",
      "2\n",
      "1\n"
     ]
    }
   ],
   "source": [
    "collatz(10)"
   ]
  },
  {
   "cell_type": "markdown",
   "id": "b11830f1",
   "metadata": {},
   "source": [
    "# QUESTION 5"
   ]
  },
  {
   "cell_type": "code",
   "execution_count": 6,
   "id": "6d6b3ad9",
   "metadata": {},
   "outputs": [],
   "source": [
    "def binary_conversion(n):  # Function called binary_conversion to create binary data. \n",
    "    if n == 0:             # if the input is 0 it will return 0, same for 1 as well.\n",
    "        return '0'\n",
    "    elif n == 1:\n",
    "        return '1'\n",
    "    else:\n",
    "        return binary_conversion(n // 2) + str(n % 2) # In other cases it divide input n by 2 and store that value to str till 0"
   ]
  },
  {
   "cell_type": "code",
   "execution_count": 10,
   "id": "cfd1e511",
   "metadata": {},
   "outputs": [
    {
     "name": "stdout",
     "output_type": "stream",
     "text": [
      "Binary conversion of 4: 100\n",
      "Binary conversion of 9: 1001\n",
      "Binary conversion of 2000: 11111010000\n"
     ]
    }
   ],
   "source": [
    "# Execution\n",
    "print(\"Binary conversion of 4: \" + binary_conversion(4))\n",
    "print(\"Binary conversion of 9: \" + binary_conversion(9))\n",
    "print(\"Binary conversion of 2000: \" + binary_conversion(2000))"
   ]
  },
  {
   "cell_type": "markdown",
   "id": "6ecbaa4e",
   "metadata": {},
   "source": [
    "# QUESTION 6"
   ]
  },
  {
   "cell_type": "code",
   "execution_count": 28,
   "id": "d36b57c7",
   "metadata": {},
   "outputs": [
    {
     "name": "stdout",
     "output_type": "stream",
     "text": [
      "\n",
      "\n",
      "\n",
      "\n",
      "\n",
      "\n",
      "  \n",
      "\n",
      "  \n",
      "\n",
      "  \n",
      "Change_me\n",
      "\n",
      "  \n",
      "\n",
      "  \n",
      "\n",
      "  \n",
      "\n",
      "\n",
      "\n",
      "\n",
      "\n",
      "\n",
      "  \n",
      "\t\n",
      "W3C Mission\n",
      "\n",
      "\t\n",
      "Principles\n",
      "\n",
      " \n",
      "\n",
      "\n",
      "\n",
      "\n",
      "\n"
     ]
    }
   ],
   "source": [
    "from html.parser import HTMLParser\n",
    "\n",
    "class HeadingParser(HTMLParser):  #class HeadingParser as subclass of HTMLparser\n",
    "    def __init__(self):\n",
    "        super().__init__()\n",
    "        self.indent = 0\n",
    "\n",
    "    def handle_starttag(self, tag, attrs): # when start tag occurs while reading through file.\n",
    "        if tag.startswith('h'):\n",
    "            print(' '* self.indent, end='')\n",
    "    \n",
    "    def handle_data(self, data):\n",
    "        print(data)\n",
    "# testing implementation. here provided file was in .txt format so I have changed it to .html file.\n",
    "infile = open('C:/Users/Raj Patel/Documents/College/Second Year/Ethan Davis/w3c.html')\n",
    "content = infile.read()\n",
    "infile.close()\n",
    "\n",
    "hp = HeadingParser()\n",
    "hp.feed(content)"
   ]
  },
  {
   "cell_type": "markdown",
   "id": "74d9962c",
   "metadata": {},
   "source": [
    "# QUESTION 7"
   ]
  },
  {
   "cell_type": "code",
   "execution_count": 4,
   "id": "e1bd41aa",
   "metadata": {},
   "outputs": [],
   "source": [
    "from urllib.request import urlopen\n",
    "from urllib.parse import urljoin\n",
    "from html.parser import HTMLParser\n",
    "\n",
    "def webdir(url, length, indent):  # we have created the function called webdir \n",
    "    \n",
    "        return"
   ]
  },
  {
   "cell_type": "code",
   "execution_count": 5,
   "id": "76f33bb3",
   "metadata": {},
   "outputs": [],
   "source": [
    "webdir('http://reed.cs.depaul.edu/lperkovic/csc242/test1.html', 2, 0)"
   ]
  },
  {
   "cell_type": "markdown",
   "id": "a07a8c21",
   "metadata": {},
   "source": [
    "# QUESTION 8"
   ]
  },
  {
   "cell_type": "code",
   "execution_count": null,
   "id": "842a8232",
   "metadata": {},
   "outputs": [],
   "source": [
    "# In order to gain information about weather data we first need to create a table that holds the information of the weather. \n",
    "\n",
    "import sqlite3  \n",
    "conn = sqlite3.connect('weather.db')  # here we are establishing the connection with the dataset.\n",
    "cursor = conn.cursor() # creating a cursor object with which we will perform the sql operations.\n",
    "\n",
    "# with the help of cursor.execute query we are creating weather_data1 table.\n",
    "cursor.execute('''                \n",
    "    CREATE TABLE Weather_data1(\n",
    "        City VARCHAR(15),       \n",
    "        Country VARCHAR(15),\n",
    "        Season VARCHAR(15),\n",
    "        Temperature FLOAT,\n",
    "        Rainfall FLOAT\n",
    "    )\n",
    "''')\n",
    "\n",
    "# data to be isnserted into table.\n",
    "weather_info = [('Mumbai', 'India', 'Winter', 24.8, 5.9),\n",
    "    ('Mumbai', 'India', 'Spring', 28.4, 16.2),\n",
    "    ('Mumbai', 'India', 'Summer', 27.9, 1549.4),\n",
    "    ('Mumbai', 'India', 'Fall', 27.6, 346.0),\n",
    "    ('London', 'United Kingdom', 'Winter', 4.2, 207.7),\n",
    "    ('London', 'United Kingdom', 'Spring', 8.3, 169.6),\n",
    "    ('London', 'United Kingdom', 'Summer', 15.7, 157.0),\n",
    "    ('London', 'United Kingdom', 'Fall', 10.4, 218.5),\n",
    "    ('Cairo', 'Egypt', 'Winter', 13.6, 16.5),\n",
    "    ('Cairo', 'Egypt', 'Spring', 20.7, 6.5),\n",
    "    ('Cairo', 'Egypt', 'Summer', 27.7, 0.1),\n",
    "    ('Cairo', 'Egypt', 'Fall', 22.2, 4.5)\n",
    "]                                   \n",
    "\n",
    "# inserting data into weather_data1 table\n",
    "cursor.executemany('''\n",
    "    INSERT INTO Weather_data1 (City, Country, Season, Temperature, Rainfall)\n",
    "    VALUES (?, ?, ?, ?, ?)\n",
    "''', weather_info)\n",
    "\n",
    "conn.commit()  # here we use command queries to use the table and make it close \n",
    "conn.close()\n"
   ]
  },
  {
   "cell_type": "code",
   "execution_count": 34,
   "id": "425eedc3",
   "metadata": {},
   "outputs": [
    {
     "name": "stdout",
     "output_type": "stream",
     "text": [
      " ----------**---------- \n",
      "Temperature from all the city for all weather:\n",
      "(24.8,)\n",
      "Temperature from all the city for all weather:\n",
      "(28.4,)\n",
      "Temperature from all the city for all weather:\n",
      "(27.9,)\n",
      "Temperature from all the city for all weather:\n",
      "(27.6,)\n",
      "Temperature from all the city for all weather:\n",
      "(4.2,)\n",
      "Temperature from all the city for all weather:\n",
      "(8.3,)\n",
      "Temperature from all the city for all weather:\n",
      "(15.7,)\n",
      "Temperature from all the city for all weather:\n",
      "(10.4,)\n",
      "Temperature from all the city for all weather:\n",
      "(13.6,)\n",
      "Temperature from all the city for all weather:\n",
      "(20.7,)\n",
      "Temperature from all the city for all weather:\n",
      "(27.7,)\n",
      "Temperature from all the city for all weather:\n",
      "(22.2,)\n",
      " ----------**---------- \n",
      "City from the weather_data1 table:\n",
      "('Mumbai',)\n",
      "City from the weather_data1 table:\n",
      "('London',)\n",
      "City from the weather_data1 table:\n",
      "('Cairo',)\n",
      " ----------**---------- \n",
      "Records of Indian city from the given data:\n",
      "('Mumbai', 'India', 'Winter', 24.8, 5.9)\n",
      "Records of Indian city from the given data:\n",
      "('Mumbai', 'India', 'Spring', 28.4, 16.2)\n",
      "Records of Indian city from the given data:\n",
      "('Mumbai', 'India', 'Summer', 27.9, 1549.4)\n",
      "Records of Indian city from the given data:\n",
      "('Mumbai', 'India', 'Fall', 27.6, 346.0)\n",
      " ----------**---------- \n",
      "All the fall Records from the givin data :\n",
      "('Mumbai', 'India', 'Fall', 27.6, 346.0)\n",
      "All the fall Records from the givin data :\n",
      "('London', 'United Kingdom', 'Fall', 10.4, 218.5)\n",
      "All the fall Records from the givin data :\n",
      "('Cairo', 'Egypt', 'Fall', 22.2, 4.5)\n",
      " ----------**---------- \n",
      "city record where average rainfall is between 200 and 400 millimeters from givin data:\n",
      "('London', 'United Kingdom', 'Fall')\n",
      "city record where average rainfall is between 200 and 400 millimeters from givin data:\n",
      "('London', 'United Kingdom', 'Winter')\n",
      "city record where average rainfall is between 200 and 400 millimeters from givin data:\n",
      "('Mumbai', 'India', 'Fall')\n",
      " ----------**---------- \n",
      "Cities with Average Fall Temperature above 20 degrees, in increasing order for given data:\n",
      "('Cairo', 'Egypt')\n",
      "Cities with Average Fall Temperature above 20 degrees, in increasing order for given data:\n",
      "('Mumbai', 'India')\n",
      " ----------**---------- \n",
      "Total Annual Rainfall for Cairo: [(27.6,)]\n",
      " ----------**---------- \n",
      "Total Rainfall for Each Season:\n",
      "('Fall', 569.0)\n",
      "Total Rainfall for Each Season:\n",
      "('Spring', 192.29999999999998)\n",
      "Total Rainfall for Each Season:\n",
      "('Summer', 1706.5)\n",
      "Total Rainfall for Each Season:\n",
      "('Winter', 230.1)\n"
     ]
    }
   ],
   "source": [
    "conn = sqlite3.connect('weather.db') #connecting with the database.\n",
    "cursor = conn.cursor()\n",
    "\n",
    "# task_a: All THE TEMPURETURE DATA\n",
    "print(\" ----------**---------- \")\n",
    "cursor.execute(\"SELECT Temperature FROM Weather_data1\")\n",
    "temperature = cursor.fetchall()\n",
    "for T in temperature:\n",
    "    print(\"Temperature from all the city for all weather:\")\n",
    "    print(T)\n",
    "\n",
    "# task_b: All THE CITIES BUT WITHOUT REPETITION\n",
    "print(\" ----------**---------- \")\n",
    "cursor.execute(\"SELECT DISTINCT City FROM Weather_data1 \")\n",
    "distinct_cities = cursor.fetchall()\n",
    "for C in distinct_cities:\n",
    "    print(\"City from the weather_data1 table:\")\n",
    "    print(C) \n",
    "        \n",
    "\n",
    "# task_c:  All THE RECORDS OF INDIA \n",
    "print(\" ----------**---------- \")\n",
    "cursor.execute(\"SELECT * FROM Weather_data1  WHERE Country = 'India'\") # giving country = India, this will fetch data from only India.\n",
    "India_city = cursor.fetchall()\n",
    "for I in India_city:\n",
    "    print(\"Records of Indian city from the given data:\")\n",
    "    print(I)  \n",
    "    \n",
    "    \n",
    "# Task_d:  All THE FALL RECORDS \n",
    "print(\" ----------**---------- \")\n",
    "cursor.execute(\"SELECT * FROM Weather_data1  WHERE Season = 'Fall'\")\n",
    "fall_record = cursor.fetchall()\n",
    "for F in fall_record:\n",
    "    print(\"All the fall Records from the givin data :\")\n",
    "    print(F)\n",
    "\n",
    "# task_e: The city, country, and season for which the average rainfall is between 200 and 400 millimeters\n",
    "print(\" ----------**---------- \")\n",
    "cursor.execute(\"SELECT City, Country, Season FROM Weather_data1 GROUP BY City, Country, Season HAVING AVG(Rainfall) BETWEEN 200 AND 400\")\n",
    "Ave_rainfall = cursor.fetchall()\n",
    "for R in Ave_rainfall:\n",
    "    print(\"city record where average rainfall is between 200 and 400 millimeters from givin data:\")\n",
    "    print(R)\n",
    "\n",
    "# task_f: The CITY AND COUNTRY FOR which the average Fall temperature is above 20 degrees, in increasing temperature order\n",
    "print(\" ----------**---------- \")\n",
    "cursor.execute(\"SELECT City, Country FROM Weather_data1  WHERE Season = 'Fall' GROUP BY City, Country HAVING AVG(Temperature) > 20 ORDER BY AVG(Temperature) ASC\")\n",
    "average_temp = cursor.fetchall()\n",
    "for A in average_temp:\n",
    "    print(\"Cities with Average Fall Temperature above 20 degrees, in increasing order for given data:\")\n",
    "    print(A)\n",
    "\n",
    "# task_g: The TOTAL ANNUAL RAINFALL OF CIARO \n",
    "print(\" ----------**---------- \")\n",
    "cursor.execute(\"SELECT SUM(Rainfall) AS TotalRainfall FROM Weather_data1  WHERE City = 'Cairo'\")\n",
    "cairo_rain = cursor.fetchall()\n",
    "print(\"Total Annual Rainfall for Cairo:\", cairo_rain)\n",
    "\n",
    "# task_h: The TOTAL RAINFALL OF THE SEASON\n",
    "print(\" ----------**---------- \")\n",
    "cursor.execute(\"SELECT Season, SUM(Rainfall) AS TotalRainfall FROM Weather_data1  GROUP BY Season\")\n",
    "seasonal_rain = cursor.fetchall()\n",
    "for S in seasonal_rain:\n",
    "    print(\"Total Rainfall for Each Season:\")\n",
    "    print(S)\n",
    "    \n",
    "conn.close() #closing of the connection\n"
   ]
  },
  {
   "cell_type": "markdown",
   "id": "87509016",
   "metadata": {},
   "source": [
    "# QUESTION 9"
   ]
  },
  {
   "cell_type": "code",
   "execution_count": 6,
   "id": "fc2ad9d7",
   "metadata": {},
   "outputs": [],
   "source": [
    "# First defining the list of words.\n",
    "words = ['The', 'quick', 'brown', 'fox', 'jumps', 'over','the', 'lazy', 'dog']"
   ]
  },
  {
   "cell_type": "code",
   "execution_count": 8,
   "id": "9ffb3ec4",
   "metadata": {},
   "outputs": [
    {
     "name": "stdout",
     "output_type": "stream",
     "text": [
      "['THE', 'QUICK', 'BROWN', 'FOX', 'JUMPS', 'OVER', 'THE', 'LAZY', 'DOG']\n"
     ]
    }
   ],
   "source": [
    "# Task 1 : printing all the words of the lists in uppercase. \n",
    "task_1 = []\n",
    "for w in words:\n",
    "    task_1.append(w.upper())\n",
    "\n",
    "print(task_1)    "
   ]
  },
  {
   "cell_type": "code",
   "execution_count": 9,
   "id": "9336abac",
   "metadata": {},
   "outputs": [
    {
     "name": "stdout",
     "output_type": "stream",
     "text": [
      "['the', 'quick', 'brown', 'fox', 'jumps', 'over', 'the', 'lazy', 'dog']\n"
     ]
    }
   ],
   "source": [
    "# Task 2: printing all words to in lowercase.\n",
    "task_2 = []\n",
    "for w in words:\n",
    "    task_2.append(w.lower())\n",
    "\n",
    "print(task_2)    "
   ]
  },
  {
   "cell_type": "code",
   "execution_count": 10,
   "id": "d3771260",
   "metadata": {},
   "outputs": [
    {
     "name": "stdout",
     "output_type": "stream",
     "text": [
      "[3, 5, 5, 3, 5, 4, 3, 4, 3]\n"
     ]
    }
   ],
   "source": [
    "# task 3: Lengths of each word in list.\n",
    "task_3 = []\n",
    "for w in words:\n",
    "    task_3.append(len(w))\n",
    "print(task_3)"
   ]
  },
  {
   "cell_type": "code",
   "execution_count": 23,
   "id": "22988565",
   "metadata": {},
   "outputs": [
    {
     "name": "stdout",
     "output_type": "stream",
     "text": [
      "[['THE', 'the', 3], ['QUICK', 'quick', 5], ['BROWN', 'brown', 5], ['FOX', 'fox', 3], ['JUMPS', 'jumps', 5], ['OVER', 'over', 4], ['THE', 'the', 3], ['LAZY', 'lazy', 4], ['DOG', 'dog', 3]]\n"
     ]
    }
   ],
   "source": [
    "# Task 4: the list containing a list for every word of list words, where each list contains the word in uppercase and lowercase and the length of the word.\n",
    "task_4 = []\n",
    "for w in words:\n",
    "    combined_list = [w.upper(), w.lower(), len(w)]\n",
    "    task_4.append(combined_list)\n",
    "\n",
    "print(task_4)"
   ]
  },
  {
   "cell_type": "code",
   "execution_count": 24,
   "id": "999bf91c",
   "metadata": {},
   "outputs": [
    {
     "name": "stdout",
     "output_type": "stream",
     "text": [
      "['quick', 'brown', 'jumps', 'over', 'lazy']\n"
     ]
    }
   ],
   "source": [
    "# Task 5: words from the lists with 4 or more characters\n",
    "task_5 = []\n",
    "for w in words:\n",
    "    if len(w) >= 4:\n",
    "        task_5.append(w)\n",
    "print(task_5)"
   ]
  },
  {
   "cell_type": "code",
   "execution_count": null,
   "id": "6c742972",
   "metadata": {},
   "outputs": [],
   "source": []
  }
 ],
 "metadata": {
  "kernelspec": {
   "display_name": "Python 3 (ipykernel)",
   "language": "python",
   "name": "python3"
  },
  "language_info": {
   "codemirror_mode": {
    "name": "ipython",
    "version": 3
   },
   "file_extension": ".py",
   "mimetype": "text/x-python",
   "name": "python",
   "nbconvert_exporter": "python",
   "pygments_lexer": "ipython3",
   "version": "3.9.12"
  }
 },
 "nbformat": 4,
 "nbformat_minor": 5
}
